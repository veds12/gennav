{
  "nbformat": 4,
  "nbformat_minor": 0,
  "metadata": {
    "colab": {
      "name": "RRG.ipynb",
      "provenance": [],
      "collapsed_sections": [],
      "authorship_tag": "ABX9TyPooyPJvafMvGTMpeI4BfyP",
      "include_colab_link": true
    },
    "kernelspec": {
      "name": "python3",
      "display_name": "Python 3"
    }
  },
  "cells": [
    {
      "cell_type": "markdown",
      "metadata": {
        "id": "view-in-github",
        "colab_type": "text"
      },
      "source": [
        "<a href=\"https://colab.research.google.com/github/sushant1212/gennav/blob/master/examples/planners/RRG.ipynb\" target=\"_parent\"><img src=\"https://colab.research.google.com/assets/colab-badge.svg\" alt=\"Open In Colab\"/></a>"
      ]
    },
    {
      "cell_type": "markdown",
      "metadata": {
        "id": "BgV3SyXxpQWz"
      },
      "source": [
        "# Example of using RRG algorithm from GenNav"
      ]
    },
    {
      "cell_type": "code",
      "metadata": {
        "id": "wu_GYdOv9Zbd",
        "outputId": "ff85a15c-2e2a-4086-d328-5659401b0c99",
        "colab": {
          "base_uri": "https://localhost:8080/",
          "height": 336
        }
      },
      "source": [
        "!git clone https://github.com/ERC-BPGC/gennav.git\n",
        "\n",
        "!pip install gennav"
      ],
      "execution_count": null,
      "outputs": [
        {
          "output_type": "stream",
          "text": [
            "fatal: destination path 'gennav' already exists and is not an empty directory.\n",
            "Collecting gennav\n",
            "  Downloading https://files.pythonhosted.org/packages/3d/5c/5aa0954cc6c6d048a65356e64ee8fd6cdbf6862651d9a5b90b5aa39eadbf/gennav-0.1.1.tar.gz\n",
            "Requirement already satisfied: descartes in /usr/local/lib/python3.6/dist-packages (from gennav) (1.1.0)\n",
            "Requirement already satisfied: matplotlib in /usr/local/lib/python3.6/dist-packages (from gennav) (3.2.2)\n",
            "Requirement already satisfied: numpy in /usr/local/lib/python3.6/dist-packages (from gennav) (1.18.5)\n",
            "Requirement already satisfied: shapely in /usr/local/lib/python3.6/dist-packages (from gennav) (1.7.1)\n",
            "Requirement already satisfied: cycler>=0.10 in /usr/local/lib/python3.6/dist-packages (from matplotlib->gennav) (0.10.0)\n",
            "Requirement already satisfied: pyparsing!=2.0.4,!=2.1.2,!=2.1.6,>=2.0.1 in /usr/local/lib/python3.6/dist-packages (from matplotlib->gennav) (2.4.7)\n",
            "Requirement already satisfied: python-dateutil>=2.1 in /usr/local/lib/python3.6/dist-packages (from matplotlib->gennav) (2.8.1)\n",
            "Requirement already satisfied: kiwisolver>=1.0.1 in /usr/local/lib/python3.6/dist-packages (from matplotlib->gennav) (1.2.0)\n",
            "Requirement already satisfied: six in /usr/local/lib/python3.6/dist-packages (from cycler>=0.10->matplotlib->gennav) (1.15.0)\n",
            "Building wheels for collected packages: gennav\n",
            "  Building wheel for gennav (setup.py) ... \u001b[?25l\u001b[?25hdone\n",
            "  Created wheel for gennav: filename=gennav-0.1.1-cp36-none-any.whl size=22229 sha256=3946799e9d5cf3feb59a15dceb0f2dd119a5a2d76f9f5cc6abd2be3b4bb92836\n",
            "  Stored in directory: /root/.cache/pip/wheels/a6/02/0d/fa84d74261bff734763484f758232593ccff366a0a2a816fcc\n",
            "Successfully built gennav\n",
            "Installing collected packages: gennav\n",
            "Successfully installed gennav-0.1.1\n"
          ],
          "name": "stdout"
        }
      ]
    },
    {
      "cell_type": "markdown",
      "metadata": {
        "id": "yByfHwTNrlsC"
      },
      "source": [
        ""
      ]
    },
    {
      "cell_type": "code",
      "metadata": {
        "id": "jq7d0X8F-WMB"
      },
      "source": [
        "from gennav.planners import RRG # importing RRG planner\n",
        "from gennav.envs import PolygonEnv # importing polygon environment\n",
        "from gennav.utils import RobotState # importing Robostate to give start/end coordinates\n",
        "from gennav.utils.geometry import Point # importing Point to give start/end coordinates\n",
        "from gennav.utils.samplers import UniformRectSampler # importing sampler class "
      ],
      "execution_count": null,
      "outputs": []
    },
    {
      "cell_type": "code",
      "metadata": {
        "id": "AwYlyhphAnui"
      },
      "source": [
        "general_obstacles_list = [\n",
        "                          \n",
        "        [[(8, 5), (7, 8), (2, 9), (3, 5)], [(3, 3), (3, 5), (5, 5), (5, 3)]],\n",
        "        \n",
        "        [\n",
        "            [(2, 10), (7, 10), (7, 1), (6, 1), (6, 6), (4, 6), (4, 9), (2, 9)],\n",
        "            [(4, 0), (4, 5), (5, 5), (5, 0)],\n",
        "            [(8, 2), (8, 7), (10, 7), (10, 2)],\n",
        "        ],\n",
        "    ]\n",
        "\n",
        "    # A list of obstacles for the planner."
      ],
      "execution_count": null,
      "outputs": []
    },
    {
      "cell_type": "code",
      "metadata": {
        "id": "nh7OCyZLQ_Ie"
      },
      "source": [
        "sampler = UniformRectSampler(-5, 15, -5, 15) # for uniformly sampling points"
      ],
      "execution_count": null,
      "outputs": []
    },
    {
      "cell_type": "code",
      "metadata": {
        "id": "kI8m0XqURJrk"
      },
      "source": [
        "poly = PolygonEnv(buffer_dist=1.0) # intializing the environment object needed for updating the obstacles of the environment"
      ],
      "execution_count": null,
      "outputs": []
    },
    {
      "cell_type": "code",
      "metadata": {
        "id": "Zokr1jM3RVpm"
      },
      "source": [
        "my_tree = RRG(sampler=sampler, expand_dis=1.0, max_iter=500) # initializing RRG planner object"
      ],
      "execution_count": null,
      "outputs": []
    },
    {
      "cell_type": "code",
      "metadata": {
        "id": "Q5seEncKRf9q"
      },
      "source": [
        "start = RobotState(position=Point(0, 0)) # setting start point to (0,0)\n",
        "goal = RobotState(position=Point(10, 10)) # setting end point to (0,0)"
      ],
      "execution_count": null,
      "outputs": []
    },
    {
      "cell_type": "code",
      "metadata": {
        "id": "RTPnB37dRphq",
        "outputId": "91fb35a5-c29b-4d55-f803-93db61a97aae",
        "colab": {
          "base_uri": "https://localhost:8080/",
          "height": 34
        }
      },
      "source": [
        "for obstacles in general_obstacles_list: # updating the environment with all obstacles\n",
        "  poly.update(obstacles)\n",
        "path, _ = my_tree.plan(start, goal, poly) # planning the path"
      ],
      "execution_count": null,
      "outputs": [
        {
          "output_type": "stream",
          "text": [
            "Goal Reached!\n"
          ],
          "name": "stdout"
        }
      ]
    },
    {
      "cell_type": "code",
      "metadata": {
        "id": "N8UVdIAlR96a",
        "outputId": "ecdc3951-9990-4e94-da2b-6e9f9b8e2202",
        "colab": {
          "base_uri": "https://localhost:8080/",
          "height": 318
        }
      },
      "source": [
        "from gennav.envs.common import visualize_path # module for visualizing path\n",
        "visualize_path(path, poly) # visualize path and obstacles"
      ],
      "execution_count": null,
      "outputs": [
        {
          "output_type": "stream",
          "text": [
            "/content/gennav/gennav/envs/common.py:26: MatplotlibDeprecationWarning: Adding an axes using the same arguments as a previous axes currently reuses the earlier instance.  In a future version, a new instance will always be created and returned.  Meanwhile, this warning can be suppressed, and the future behavior ensured, by passing a unique label to each axes instance.\n",
            "  ax = fig.add_subplot(111)\n"
          ],
          "name": "stderr"
        },
        {
          "output_type": "display_data",
          "data": {
            "image/png": "[encoded data removed]",
            "text/plain": [
              "<Figure size 432x288 with 1 Axes>"
            ]
          },
          "metadata": {
            "tags": [],
            "needs_background": "light"
          }
        }
      ]
    }
  ]
}